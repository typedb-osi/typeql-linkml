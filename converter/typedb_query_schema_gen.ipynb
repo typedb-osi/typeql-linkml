{
 "cells": [
  {
   "cell_type": "code",
   "execution_count": null,
   "metadata": {},
   "outputs": [],
   "source": [
    "from typedb.client import TypeDBClient, TypeDB, SessionType, TransactionType\n",
    "from typedb.common.exception import TypeDBClientException\n",
    "from typedb.common.label import Label\n",
    "from schema_utils import *\n",
    "from typedb.concept.type.type import _Type as tt\n",
    "from typedb.concept.type.role_type import RoleType\n",
    "from typedb.concept.type.relation_type import RelationType\n",
    "from typedb.logic.rule import Rule\n",
    "import json\n",
    "from linkml_runtime.utils.schemaview import SchemaView\n",
    "from linkml_runtime.linkml_model.meta import ClassDefinition"
   ]
  },
  {
   "cell_type": "code",
   "execution_count": null,
   "metadata": {},
   "outputs": [],
   "source": [
    "yaml_file = \"../schema/biolink_sdtm_v0.yaml\"\n",
    "\n",
    "view = SchemaView(yaml_file)\n",
    "view.imports_closure()\n",
    "\n",
    "# typedb schema output file \n",
    "# TypeDB Native types: https://docs.vaticle.com/docs/schema/overview\n",
    "# thing, entity, attribute, relation, role\n",
    "typeql_schema = \"biolink_sdtm_schema.tql\""
   ]
  },
  {
   "attachments": {},
   "cell_type": "markdown",
   "metadata": {},
   "source": [
    "### Create new DB if Biolink DB does not exist"
   ]
  },
  {
   "cell_type": "code",
   "execution_count": null,
   "metadata": {},
   "outputs": [],
   "source": [
    "db_name = 'biolink_db_test'\n",
    "with TypeDB.core_client(\"localhost:1729\") as client:\n",
    "    if client.databases().contains(db_name):\n",
    "        client.databases().get(db_name).delete()\n",
    "    client.databases().create(db_name)\n",
    "    \n"
   ]
  },
  {
   "attachments": {},
   "cell_type": "markdown",
   "metadata": {},
   "source": [
    "### Add types to schema"
   ]
  },
  {
   "cell_type": "code",
   "execution_count": null,
   "metadata": {},
   "outputs": [],
   "source": [
    "\n",
    "## ------------\n",
    "## TYPES\n",
    "## ------------\n",
    "\n",
    "# typedb only has following types: https://docs.vaticle.com/docs/schema/overview\n",
    "# long, double, string, boolean, datetime\n",
    "typedb_types = ['long', 'double', 'string', 'boolean', 'datetime']\n",
    "\n",
    "# dictionary to map biolink types to typedb types\n",
    "type_mapper = {\"int\":\"double\", \"date\":\"datetime\", \"float\":\"long\", \"XSDDate\":\"datetime\", \"str\":\"string\"}\n",
    "         \n",
    "bl_special_types = build_types_dict(view, typedb_types, type_mapper)\n",
    "            "
   ]
  },
  {
   "attachments": {},
   "cell_type": "markdown",
   "metadata": {},
   "source": [
    "### Add slots to schema"
   ]
  },
  {
   "cell_type": "code",
   "execution_count": null,
   "metadata": {},
   "outputs": [],
   "source": [
    "## ------------\n",
    "## SLOTS\n",
    "## ------------\n",
    "\n",
    "bl_special_types = add_slots_to_dict(bl_special_types, view, typedb_types, type_mapper)\n"
   ]
  },
  {
   "attachments": {},
   "cell_type": "markdown",
   "metadata": {},
   "source": [
    "### Add entities"
   ]
  },
  {
   "cell_type": "code",
   "execution_count": null,
   "metadata": {},
   "outputs": [],
   "source": [
    "## ------------------\n",
    "## THINGS/ENTITIES\n",
    "## ------------------\n",
    "\n",
    "# uriorcurie / Uniform Resource Identifiers (URIs) or CURIE (or Compact URI) is a default type in linkml\n",
    "# entity is the root Biolink Model class for all things and informational relationships, real or imagined.\n",
    "\n",
    "typeql = convert_to_camelCase(\"named thing\")+\" sub entity;\\n\\n\"\n",
    "\n",
    "entities_dict = build_entities_dict(view)\n"
   ]
  },
  {
   "attachments": {},
   "cell_type": "markdown",
   "metadata": {},
   "source": [
    "### Roles/associations"
   ]
  },
  {
   "cell_type": "code",
   "execution_count": null,
   "metadata": {},
   "outputs": [],
   "source": [
    "\n",
    "\n",
    "roles_dict, entities_dict = build_roles_dict(view, entities_dict)\n",
    "\n",
    "print(f\"Roles added: {len(roles_dict)}\")\n",
    "# parent_class = 'association'\n",
    "# travel_descent(parent_class, roles_dict, view)\n",
    "# roles_dict = {k: roles_dict[k] for k in ['association', 'gene to gene association', 'pairwise gene to gene interaction']}"
   ]
  },
  {
   "attachments": {},
   "cell_type": "markdown",
   "metadata": {},
   "source": [
    "### Write schema variables to JSON"
   ]
  },
  {
   "cell_type": "code",
   "execution_count": null,
   "metadata": {},
   "outputs": [],
   "source": [
    "\n",
    "json_schema = { \n",
    "    'types': bl_special_types,\n",
    "    'entities': entities_dict,\n",
    "    'roles': roles_dict}\n",
    "\n",
    "\n",
    "with open('bl_typedb_schema.json', 'w') as outfile:\n",
    "    json.dump(json_schema, outfile, indent=4)      "
   ]
  },
  {
   "attachments": {},
   "cell_type": "markdown",
   "metadata": {},
   "source": [
    "### Commit schema to TypeDB database"
   ]
  },
  {
   "cell_type": "code",
   "execution_count": null,
   "metadata": {},
   "outputs": [],
   "source": [
    "print(\"defining types\")\n",
    "\n",
    "for i in bl_special_types:\n",
    "    if 'value' in bl_special_types[i].keys():\n",
    "        query = build_tql_define(convert_to_snakeCase(i), bl_special_types[i]['type'], \n",
    "                                abstract=bl_special_types[i]['abstract'], \n",
    "                                value=bl_special_types[i]['value'])\n",
    "    else:\n",
    "        query = build_tql_define(convert_to_snakeCase(i), bl_special_types[i]['type'], \n",
    "                                abstract=bl_special_types[i]['abstract'])\n",
    "    \n",
    "    print(query)\n",
    "    write_query_transaction(query, db_name)\n",
    "\n",
    "print(\"defining associations\")\n",
    "for r in roles_dict:  \n",
    "    query = build_tql_rel(roles_dict[r]['name'], \n",
    "                        roles_dict[r]['type'], \n",
    "                        roles_dict[r]['relates'], \n",
    "                        abstract=roles_dict[r]['abstract'])\n",
    "    print(query)\n",
    "    write_query_transaction(query, db_name)\n",
    "\n",
    "print(\"defining roles\")\n",
    "for r in roles_dict:\n",
    "    for r in roles_dict:  \n",
    "        if 'plays' in roles_dict[r].keys():\n",
    "            \n",
    "            query = build_tql_rel(roles_dict[r]['name'], \n",
    "                                                        roles_dict[r]['type'], \n",
    "                                                        roles_dict[r]['relates'], \n",
    "                                                        plays = roles_dict[r]['plays'],\n",
    "                                                        abstract=roles_dict[r]['abstract'])\n",
    "            \n",
    "            print(query)\n",
    "            write_query_transaction(query, db_name)\n",
    "\n",
    "print(\"defining entities\")\n",
    "for e in entities_dict:\n",
    "    query = build_tql_entity(entities_dict[e]['name'], entities_dict[e]['type'], entities_dict[e]['attributes'])\n",
    "    print(query)\n",
    "    write_query_transaction(query, db_name)\n",
    "\n",
    "            # write_transaction.commit()"
   ]
  },
  {
   "attachments": {},
   "cell_type": "markdown",
   "metadata": {},
   "source": [
    "### Dump TypeDB schema as `.tql` file "
   ]
  },
  {
   "cell_type": "code",
   "execution_count": null,
   "metadata": {},
   "outputs": [],
   "source": [
    "db_name = 'biolink_db9'\n",
    "with TypeDB.core_client(\"localhost:1729\") as client:\n",
    "    with client.session(db_name, SessionType.DATA) as session:\n",
    "        a = session.database().schema()\n",
    "    with open(\"biolink_typedb_schema.tql\", \"w\") as f:\n",
    "        f.write(a)"
   ]
  }
 ],
 "metadata": {
  "kernelspec": {
   "display_name": "kg",
   "language": "python",
   "name": "python3"
  },
  "language_info": {
   "codemirror_mode": {
    "name": "ipython",
    "version": 3
   },
   "file_extension": ".py",
   "mimetype": "text/x-python",
   "name": "python",
   "nbconvert_exporter": "python",
   "pygments_lexer": "ipython3",
   "version": "3.10.0"
  },
  "orig_nbformat": 4
 },
 "nbformat": 4,
 "nbformat_minor": 2
}
